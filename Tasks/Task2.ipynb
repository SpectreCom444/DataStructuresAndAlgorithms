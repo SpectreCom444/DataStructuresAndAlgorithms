{
 "cells": [
  {
   "cell_type": "markdown",
   "id": "arctic-stocks",
   "metadata": {},
   "source": [
    "### Задание №1\n",
    "Массив A состоит из целых положительных чисел длин отрезков. Составьте из трех отрезков такой треугольник, чтобы его периметр был максимально возможным. Если невозможно составить треугольник с положительной площадью функция возвращает 0."
   ]
  },
  {
   "cell_type": "code",
   "execution_count": 113,
   "id": "caring-truck",
   "metadata": {
    "scrolled": true
   },
   "outputs": [],
   "source": [
    "import random\n",
    "def generator(mas_len,min_d,max_d):\n",
    "    return [random.randint(min_d,max_d+1) for i in range(mas_len)]"
   ]
  },
  {
   "cell_type": "code",
   "execution_count": 128,
   "id": "6c6daf89",
   "metadata": {},
   "outputs": [
    {
     "name": "stdout",
     "output_type": "stream",
     "text": [
      "10\n",
      "Исходная последовательность:\n",
      " 888 872 776 916 433 475 645 38 663 218\n",
      "отсортированный массив для более быстрой проеврки:\n",
      " 916 888 872 776 663 645 475 433 218 38\n",
      "Стороны треугольника с максимальный периметром:\n",
      " (916, 888, 872)\n"
     ]
    }
   ],
   "source": [
    "def triangle(mas,n):\n",
    "    mas=sorted(mas,reverse=True)\n",
    "    for i in range(n-2):\n",
    "        if mas[i]<(mas[i+1]+mas[i+2]):\n",
    "            return mas[i], mas[i+1], mas[i+2]\n",
    "    return 0\n",
    "mas_len=int(input())\n",
    "min_d=0\n",
    "max_d=1000\n",
    "mas=generator(mas_len,min_d,max_d)\n",
    "print('Исходная последовательность:\\n',*(mas))\n",
    "print('отсортированный массив для более быстрой проеврки:\\n',*sorted(mas)[::-1])\n",
    "print('Стороны треугольника с максимальный периметром:\\n',triangle(mas,mas_len))"
   ]
  },
  {
   "cell_type": "markdown",
   "id": "maritime-conversation",
   "metadata": {},
   "source": [
    "### Задание №2\n",
    "Дан массив неотрицательных целых чисел nums. Расположите их в таком порядке, чтобы вместе они образовали максимально возможное число. Замечание: Результат может быть очень большим числом, поэтому представьте его как string, а не integer."
   ]
  },
  {
   "cell_type": "code",
   "execution_count": 112,
   "id": "alert-charm",
   "metadata": {
    "scrolled": false
   },
   "outputs": [
    {
     "name": "stdout",
     "output_type": "stream",
     "text": [
      "10\n",
      "Исходная последовательность:\n",
      " 888 899 600 98 627 326 330 426 747 960\n",
      "отсортированный массив для более быстрой проеврки:\n",
      " 960 899 888 747 627 600 426 330 326 98\n",
      "максимальное числа:\n",
      "98960899888747627600426330326\n"
     ]
    }
   ],
   "source": [
    "def building_number(mas):\n",
    "    s=''\n",
    "    while len(mas)>0:\n",
    "        index_max=0\n",
    "        for i in range(len(mas)):\n",
    "            if str(mas[i])>str(mas[index_max]):            \n",
    "                index_max=i\n",
    "        s+=str(mas[index_max])   \n",
    "        mas.pop(index_max)\n",
    "    return s\n",
    "mas_len=int(input())\n",
    "min_d=0\n",
    "max_d=1000\n",
    "mas=generator(mas_len,min_d,max_d)\n",
    "print('Исходная последовательность:\\n',*(mas))\n",
    "print('отсортированный массив для более быстрой проеврки:\\n',*sorted(mas)[::-1])\n",
    "print('максимальное числа:',building_number(mas.copy()),sep='\\n')"
   ]
  },
  {
   "cell_type": "markdown",
   "id": "catholic-roots",
   "metadata": {},
   "source": [
    "### Задание №3\n",
    "Дана матрица mat размером m * n, значения целочисленные. Напишите функцию, сортирующую каждую диагональ матрицы по возрастанию и возвращающую получившуюся матрицу."
   ]
  },
  {
   "cell_type": "code",
   "execution_count": 136,
   "id": "cleared-anniversary",
   "metadata": {
    "scrolled": true
   },
   "outputs": [
    {
     "name": "stdout",
     "output_type": "stream",
     "text": [
      "Сгенерированная матрица:\n",
      "68 42 32 50 71 \n",
      "35 40 19 31 20 \n",
      "81 96 86 10 21 \n",
      "63 27 39 44 79 \n",
      "\n",
      "\n",
      "Отсортированная матрица:\n",
      "68 42 81 96 86 \n",
      "35 40 63 71 39 \n",
      "32 50 31 20 44 \n",
      "19 27 10 21 79 \n",
      "\n",
      "\n"
     ]
    }
   ],
   "source": [
    "import random\n",
    "def forming_diagonals(mas):\n",
    "    mas_d=[[-1 for j in range(len(mas[0])+len(mas)-1)] for i in range(len(mas))]\n",
    "    for i in range(len(mas[0])+len(mas)-1):\n",
    "        for j in range(len(mas)):\n",
    "           if i>=j and i<len(mas[0])+j:\n",
    "               mas_d[j][i]=mas[j][i-j]\n",
    "    return mas_d\n",
    "def forming_matrix(mas,n,m):\n",
    "    mas_r=[[0 for j in range(m)] for i in range(n)]\n",
    "    for i in range(n):\n",
    "        for j in range(m):\n",
    "            mas_r[i][j]=mas[i][j+i]\n",
    "    return mas_r\n",
    "def sorted_matrix(mas):\n",
    "    for i in range(len(mas[0])):\n",
    "        s_list=[]\n",
    "        for j in range(len(mas)):\n",
    "            if mas[j][i]>=0:\n",
    "                s_list.append(mas[j][i])\n",
    "        s_list=sorted(s_list,reverse=True)\n",
    "        n=0\n",
    "        for j in range(len(mas)):\n",
    "            if mas[j][i]>=0:\n",
    "                mas[j][i]=s_list[n]\n",
    "                n+=1\n",
    "    return mas\n",
    "user_m,user_n = 4,5\n",
    "user_min_limit=10\n",
    "user_max_limit=99\n",
    "def generator(user_m,user_n,user_min_limit,user_max_limit):\n",
    "    return [ [ random.randint(user_min_limit, user_max_limit) for j in range(user_n)] for i in range(user_m) ]\n",
    "def print_matrix(mas):\n",
    "    for i in range(len(mas)):\n",
    "        for j in range(len(mas[i])):  \n",
    "            print(mas[i][j], end=' ')\n",
    "        print()\n",
    "    print('\\n')\n",
    "mas=generator(user_m,user_n,user_min_limit,user_max_limit)\n",
    "print('Сгенерированная матрица:')\n",
    "print_matrix(mas)\n",
    "diagonals_mas=forming_diagonals(mas)\n",
    "#print_matrix(diagonals_mas)\n",
    "sorted_mas=sorted_matrix(diagonals_mas)\n",
    "#print_matrix(sorted_mas)\n",
    "rex_matrix=forming_matrix(sorted_mas,user_m,user_n)\n",
    "print('Отсортированная матрица:')\n",
    "print_matrix(rex_matrix)"
   ]
  },
  {
   "cell_type": "code",
   "execution_count": null,
   "id": "0c0f128d",
   "metadata": {},
   "outputs": [],
   "source": []
  }
 ],
 "metadata": {
  "kernelspec": {
   "display_name": "Python 3 (ipykernel)",
   "language": "python",
   "name": "python3"
  },
  "language_info": {
   "codemirror_mode": {
    "name": "ipython",
    "version": 3
   },
   "file_extension": ".py",
   "mimetype": "text/x-python",
   "name": "python",
   "nbconvert_exporter": "python",
   "pygments_lexer": "ipython3",
   "version": "3.9.7"
  }
 },
 "nbformat": 4,
 "nbformat_minor": 5
}
