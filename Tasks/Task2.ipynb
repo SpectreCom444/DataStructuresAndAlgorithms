{
 "cells": [
  {
   "cell_type": "markdown",
   "id": "arctic-stocks",
   "metadata": {},
   "source": [
    "### Задание №1\n",
    "Массив A состоит из целых положительных чисел длин отрезков. Составьте из трех отрезков такой треугольник, чтобы его периметр был максимально возможным. Если невозможно составить треугольник с положительной площадью функция возвращает 0."
   ]
  },
  {
   "cell_type": "code",
   "execution_count": null,
   "id": "caring-truck",
   "metadata": {
    "scrolled": true
   },
   "outputs": [],
   "source": []
  },
  {
   "cell_type": "markdown",
   "id": "maritime-conversation",
   "metadata": {},
   "source": [
    "### Задание №2\n",
    "Дан массив неотрицательных целых чисел nums. Расположите их в таком порядке, чтобы вместе они образовали максимально возможное число. Замечание: Результат может быть очень большим числом, поэтому представьте его как string, а не integer."
   ]
  },
  {
   "cell_type": "code",
   "execution_count": 55,
   "id": "alert-charm",
   "metadata": {
    "scrolled": false
   },
   "outputs": [
    {
     "name": "stdout",
     "output_type": "stream",
     "text": [
      "20\n",
      "Исходная последовательность:\n",
      " 433 478 683 243 305 682 454 261 347 718 761 967 194 695 647 505 768 578 403 693\n",
      "отсортированный массив для более быстрой проеврки:\n",
      " 967 768 761 718 695 693 683 682 647 578 505 478 454 433 403 347 305 261 243 194\n",
      "максимальное числа:\n",
      " 967768761718695693683682647578505478454433403347305261243194\n"
     ]
    }
   ],
   "source": [
    "import random\n",
    "def first_number(n):\n",
    "    while n>9:\n",
    "        n//=10\n",
    "    return n\n",
    "\n",
    "def full_comparison(m,n):\n",
    "    if m>n:\n",
    "        while n>9 and m>9:\n",
    "            if first_number(m)>first_number(n):\n",
    "                return True\n",
    "            elif first_number(m)<first_number(n):\n",
    "                return False\n",
    "            else:\n",
    "              m =int(str(m)[1:])\n",
    "              n =int(str(n)[1:])\n",
    "        if m>n:\n",
    "            return True\n",
    "        else:\n",
    "            return False\n",
    "        \n",
    "def building_number(mas):\n",
    "    s=''\n",
    "    while len(mas)>0:\n",
    "        index_max=0\n",
    "        first_n=first_number(mas[0])\n",
    "        for i in range(len(mas)):\n",
    "            if first_number(mas[i])>first_n:\n",
    "                index_max=i\n",
    "                first_n=first_number(mas[i])\n",
    "            elif first_number(mas[i])==first_n and i!=index_max:\n",
    "                if full_comparison(mas[i],mas[index_max]):\n",
    "                    index_max=i\n",
    "                    first_n=first_number(mas[i])\n",
    "        s+=str(mas[index_max])   \n",
    "        del mas[index_max]\n",
    "    return s\n",
    "\n",
    "mas_len=int(input())\n",
    "min_d=0\n",
    "max_d=1000\n",
    "mas=[random.randint(min_d,max_d+1) for i in range(mas_len)]\n",
    "print('Исходная последовательность:\\n',*(mas))\n",
    "print('отсортированный массив для более быстрой проеврки:\\n',*sorted(mas)[::-1])\n",
    "print('максимальное числа:\\n',building_number(mas))\n",
    "          "
   ]
  },
  {
   "cell_type": "markdown",
   "id": "catholic-roots",
   "metadata": {},
   "source": [
    "### Задание №3\n",
    "Дана матрица mat размером m * n, значения целочисленные. Напишите функцию, сортирующую каждую диагональ матрицы по возрастанию и возвращающую получившуюся матрицу."
   ]
  },
  {
   "cell_type": "code",
   "execution_count": null,
   "id": "cleared-anniversary",
   "metadata": {
    "scrolled": false
   },
   "outputs": [],
   "source": []
  }
 ],
 "metadata": {
  "kernelspec": {
   "display_name": "Python 3 (ipykernel)",
   "language": "python",
   "name": "python3"
  },
  "language_info": {
   "codemirror_mode": {
    "name": "ipython",
    "version": 3
   },
   "file_extension": ".py",
   "mimetype": "text/x-python",
   "name": "python",
   "nbconvert_exporter": "python",
   "pygments_lexer": "ipython3",
   "version": "3.9.7"
  }
 },
 "nbformat": 4,
 "nbformat_minor": 5
}
