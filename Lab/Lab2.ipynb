{
 "cells": [
  {
   "cell_type": "markdown",
   "id": "fifteen-sailing",
   "metadata": {},
   "source": [
    "# Лабораторная работа №2\n",
    "## Выполнил студент группы ГРУППА ФИО"
   ]
  },
  {
   "cell_type": "markdown",
   "id": "particular-syndicate",
   "metadata": {},
   "source": [
    "### Оглавление\n",
    "1. [Задание 1](#Задание-№1)\n",
    "2. [Задание 2](#Задание-№2)\n",
    "3. [Задание 3](#Задание-№3)"
   ]
  },
  {
   "cell_type": "markdown",
   "id": "arctic-stocks",
   "metadata": {},
   "source": [
    "### Задание №1\n",
    "Реализовать методы поиска в соответствии с заданием. Организовать генерацию начального набора случайных данных. Для всех вариантов добавить реализацию добавления, поиска и удаления элементов. Оценить время работы каждого алгоритма поиска и сравнить его со временем работы стандартной функции поиска, используемой в выбранном языке программирования."
   ]
  },
  {
   "cell_type": "code",
   "execution_count": 45,
   "id": "caring-truck",
   "metadata": {
    "scrolled": true
   },
   "outputs": [],
   "source": [
    "import random\n",
    "def generator(mas_len,min_d,max_d):\n",
    "    return [random.randint(min_d,max_d+1) for i in range(mas_len)]"
   ]
  },
  {
   "cell_type": "code",
   "execution_count": 46,
   "id": "621fe43e",
   "metadata": {},
   "outputs": [],
   "source": [
    "#Бинарный поиск\n",
    "def bin_search(mas,n):\n",
    "    first = 0\n",
    "    last = len(mas)-1\n",
    "    index = -1\n",
    "    while (first <= last) and (index == -1):\n",
    "        mid = (first+last)//2\n",
    "        if mas[mid] == n:\n",
    "            index = mid\n",
    "        else:\n",
    "            if n<mas[mid]:\n",
    "                last = mid -1\n",
    "            else:\n",
    "                first = mid +1\n",
    "    return index"
   ]
  },
  {
   "cell_type": "code",
   "execution_count": 6,
   "id": "75af3ea8",
   "metadata": {},
   "outputs": [],
   "source": [
    "#Бинарное дерево\n",
    "def tree_search(mas,n):\n",
    "    pass"
   ]
  },
  {
   "cell_type": "code",
   "execution_count": 7,
   "id": "abe4b0b4",
   "metadata": {},
   "outputs": [],
   "source": [
    "#Метод Фибоначчи\n",
    "def fib_search(mas,n):\n",
    "    pass"
   ]
  },
  {
   "cell_type": "code",
   "execution_count": 8,
   "id": "34ec2894",
   "metadata": {},
   "outputs": [],
   "source": [
    "#Интерполяционный\n",
    "def interpolation_search(mas,n):\n",
    "    pass"
   ]
  },
  {
   "cell_type": "code",
   "execution_count": 185,
   "id": "d635d5ad",
   "metadata": {
    "scrolled": false
   },
   "outputs": [
    {
     "name": "stdout",
     "output_type": "stream",
     "text": [
      "Введите тип поиска:\n",
      "1-Бинарный поиск\n",
      "2-Бинарное дерево\n",
      "3-Метод Фибоначчи\n",
      "4-Интерполяционный\n",
      "\n",
      "1\n",
      "________________________________________________________________________________________________________________________\n",
      "Что нужно сделать:\n",
      "1-Найти элемент\n",
      "2-Добавить элемент\n",
      "3-Удалить элемент\n",
      "\n",
      "2\n",
      "________________________________________________________________________________________________________________________\n",
      "Исходная последовательность:\n",
      " [82, 1, 85, 49, 11, 68, 81, 21, 67, 32]\n",
      "________________________________________________________________________________________________________________________\n",
      "Введите искомое число:11\n",
      "________________________________________________________________________________________________________________________ \n",
      "\n",
      "Введите элемент для добавления в массив:999\n",
      "________________________________________________________________________________________________________________________\n",
      "Массив с добавленным элементом, после числа 11:\n",
      "[82, 1, 85, 49, 11, 999, 68, 81, 21, 67, 32]\n"
     ]
    }
   ],
   "source": [
    "type_serch=int(input('Введите тип поиска:\\n1-Бинарный поиск\\n2-Бинарное дерево\\n3-Метод Фибоначчи\\n4-Интерполяционный\\n\\n'))\n",
    "print('_'*120,)\n",
    "type_action=int(input('Что нужно сделать:\\n1-Найти элемент\\n2-Добавить элемент\\n3-Удалить элемент\\n\\n'))\n",
    "print('_'*120)\n",
    "mas=generator(10,0,100)\n",
    "print('Исходная последовательность:\\n',mas)\n",
    "print('_'*120)\n",
    "n=int(input('Введите искомое число:'))\n",
    "def type_search_void(type_serch,n):\n",
    "    index=0   \n",
    "    if type_serch==1:      \n",
    "        index=bin_search(mas,n)\n",
    "    elif type_serch==2:\n",
    "        index=tree_search(mas,n)     \n",
    "    elif type_serch==3:\n",
    "        index=fib_search(mas,n)  \n",
    "    elif type_serch==4:\n",
    "        index=interpolation_search(mas,n)\n",
    "    if index==-1:\n",
    "        print('данного элемента в последовательности не существует!')\n",
    "        return -1\n",
    "    else:\n",
    "        return index  \n",
    "def type_action_void(mas,index,type_action):\n",
    "    if type_action==1:      \n",
    "        print('Элемент находится под индексом:',index)\n",
    "    elif type_action==2:\n",
    "        num = int(input('Введите элемент для добавления в массив:'))\n",
    "        print('_'*120)\n",
    "        mas.insert(index+1,num)\n",
    "        print('Массив с добавленным элементом, после числа ',n,':\\n',mas,sep='')     \n",
    "    elif type_action==3:\n",
    "        mas.pop(index)\n",
    "        print('Массив с удалённым элементом ',n,':\\n',mas,sep='') \n",
    "index=type_search_void(type_serch,n)\n",
    "if index!=-1:\n",
    "    print('_'*120,'\\n')\n",
    "    type_action_void(mas,index,type_action)\n",
    "    \n",
    "\n"
   ]
  },
  {
   "cell_type": "code",
   "execution_count": 189,
   "id": "9083d727",
   "metadata": {
    "scrolled": false
   },
   "outputs": [
    {
     "name": "stdout",
     "output_type": "stream",
     "text": [
      "Исходная последовательность:\n",
      " 72 80 5 41 55 6 28 65 93 2 100 58 85 22 60 18 47 19 39 49\n",
      "Введите искомое число:100\n",
      "\n",
      "________________________________________________________________________________________________________________________\n",
      "Бинарный поиск:\n",
      " Индекс искомого элемента: -1\n",
      "--- 0 ms --- \n",
      "________________________________________________________________________________________________________________________\n",
      "Бинарное дерево:\n",
      " Индекс искомого элемента: None\n",
      "--- 1 ms --- \n",
      "________________________________________________________________________________________________________________________\n",
      "Метод Фибоначчи:\n",
      " Индекс искомого элемента: None\n",
      "--- 0 ms --- \n",
      "________________________________________________________________________________________________________________________\n",
      "Интерполяционный:\n",
      " Индекс искомого элемента: None\n",
      "--- 0 ms --- \n",
      "________________________________________________________________________________________________________________________\n",
      "Встроенный метод:\n",
      " Индекс искомого элемента: 10\n",
      "--- 0 ms --- \n",
      "________________________________________________________________________________________________________________________\n"
     ]
    }
   ],
   "source": [
    "import time\n",
    "mas=generator(20,0,100)\n",
    "print('Исходная последовательность:\\n',*mas)\n",
    "n=int(input('Введите искомое число:'))\n",
    "print('\\n'+'_'*120)\n",
    "start_time = time.time()\n",
    "print ('Бинарный поиск:\\n','Индекс искомого элемента:',bin_search(mas,n))\n",
    "print(\"--- {0} ms ---\".format(round((time.time() - start_time)*1000)),'\\n'+'_'*120)\n",
    "start_time = time.time()\n",
    "print ('Бинарное дерево:\\n','Индекс искомого элемента:',tree_search(mas,n))\n",
    "print(\"--- {0} ms ---\".format(round((time.time() - start_time)*1000)),'\\n'+'_'*120)\n",
    "start_time = time.time()\n",
    "print ('Метод Фибоначчи:\\n','Индекс искомого элемента:',fib_search(mas,n))\n",
    "print(\"--- {0} ms ---\".format(round((time.time() - start_time)*1000)),'\\n'+'_'*120)\n",
    "start_time = time.time()\n",
    "print ('Интерполяционный:\\n','Индекс искомого элемента:',interpolation_search(mas,n))\n",
    "print(\"--- {0} ms ---\".format(round((time.time() - start_time)*1000)),'\\n'+'_'*120)\n",
    "start_time = time.time()\n",
    "print ('Встроенный метод:\\n','Индекс искомого элемента:',mas.index(n))\n",
    "print(\"--- {0} ms ---\".format(round((time.time() - start_time)*1000)),'\\n'+'_'*120)\n",
    "\n"
   ]
  },
  {
   "cell_type": "markdown",
   "id": "maritime-conversation",
   "metadata": {},
   "source": [
    "## Задание №2\n",
    "Написать соответствующие решения для заданных методов."
   ]
  },
  {
   "cell_type": "code",
   "execution_count": null,
   "id": "97f9de37",
   "metadata": {},
   "outputs": [],
   "source": [
    "#Простое рехэширование"
   ]
  },
  {
   "cell_type": "code",
   "execution_count": null,
   "id": "b4b80e3a",
   "metadata": {},
   "outputs": [],
   "source": [
    "#Рехэширование с помощью псевдослучайных чисел\n"
   ]
  },
  {
   "cell_type": "code",
   "execution_count": null,
   "id": "1addc092",
   "metadata": {},
   "outputs": [],
   "source": [
    "#Метод цепочек"
   ]
  },
  {
   "cell_type": "markdown",
   "id": "catholic-roots",
   "metadata": {},
   "source": [
    "### Задание №3\n",
    "Расставить на стандартной 64-клеточной шахматной доске 8 ферзей так, чтобы ни один из них не находился под боем другого». Подразумевается, что ферзь бьёт все клетки, расположенные по вертикалям, горизонталям и обеим диагоналям\n",
    "Написать программу,  которая находит хотя бы один способ решения задач.\n"
   ]
  },
  {
   "cell_type": "code",
   "execution_count": 38,
   "id": "e8fe3ccb",
   "metadata": {},
   "outputs": [
    {
     "name": "stdout",
     "output_type": "stream",
     "text": [
      "Количество ферзей = 8 \n",
      "\n",
      "☐ ♕ ☐ ☐ ☐ ☐ ☐ ☐ \n",
      "☐ ☐ ☐ ♕ ☐ ☐ ☐ ☐ \n",
      "☐ ☐ ☐ ☐ ☐ ♕ ☐ ☐ \n",
      "☐ ☐ ☐ ☐ ☐ ☐ ☐ ♕ \n",
      "☐ ☐ ♕ ☐ ☐ ☐ ☐ ☐ \n",
      "♕ ☐ ☐ ☐ ☐ ☐ ☐ ☐ \n",
      "☐ ☐ ☐ ☐ ☐ ☐ ♕ ☐ \n",
      "☐ ☐ ☐ ☐ ♕ ☐ ☐ ☐ \n",
      "\n",
      "\n"
     ]
    }
   ],
   "source": [
    "def check_open_point(mas):\n",
    "    open_list=[]\n",
    "    for i in range(len(mas)):\n",
    "        for j in range(len(mas[0])):\n",
    "            if mas[i][j]==0:\n",
    "                open_list.append((i,j))\n",
    "    return open_list\n",
    "    \n",
    "    \n",
    "def print_matrix_ferz(f_list):\n",
    "    mas=[['☐' for i in range(8)]for i in range(8)]\n",
    "    for i in range(len(f_list)):\n",
    "        if f_list[i][0]!=-1:\n",
    "            mas[f_list[i][0]][f_list[i][1]]='♕'\n",
    "    for i in range(len(mas)):\n",
    "        for j in range(len(mas[i])):\n",
    "            print(mas[i][j], end=' ')\n",
    "        print()\n",
    "    print('\\n')\n",
    "    \n",
    "    \n",
    "def add_ferz(mas,n,m):\n",
    "    for i in range(8):\n",
    "        mas[n][i]=1\n",
    "        mas[i][m]=1\n",
    "    for i in range(8):\n",
    "        if n+i<8 and m+i<8:\n",
    "            mas[n+i][m+i]=1\n",
    "        if n+i<8 and m-i>0:\n",
    "            mas[n+i][m-i]=1\n",
    "        if n-i>=0 and m-i>=0:\n",
    "            mas[n-i][m-i]=1\n",
    "        if n-i>=0 and m+i<8:\n",
    "            mas[n-i][m+i]=1\n",
    "    return mas\n",
    "    \n",
    "\n",
    "def arrangement_of_queens2():\n",
    "    count=0\n",
    "    open_pos=[0 for i in range(10)]\n",
    "    ferz_list=[(-1,-1) for i in range(8)]\n",
    "    mas=[[0 for i in range(8)]for i in range(8)]\n",
    "    while count<7:\n",
    "        if len(check_open_point(mas))-open_pos[count]>0:\n",
    "            open_pos[count]+=1\n",
    "            ferz_list[count]=check_open_point(mas)[open_pos[count]]\n",
    "            mas=add_ferz(mas,ferz_list[count][0],ferz_list[count][1])\n",
    "            if len(check_open_point(mas))>0:\n",
    "                count+=1\n",
    "            else:\n",
    "                open_pos[count]+=1\n",
    "                ferz_list[count]=(-1,-1)\n",
    "                mas=[[0 for i in range(8)]for i in range(8)]\n",
    "                count-=1\n",
    "                for i in range(8):\n",
    "                    if ferz_list[i][0]!=-1:\n",
    "                        mas=add_ferz(mas,ferz_list[i][0],ferz_list[i][1])\n",
    "        else:\n",
    "            open_pos[count]=0\n",
    "            count-=1\n",
    "            open_pos[count]+=1\n",
    "            ferz_list[count]=(-1,-1)\n",
    "            mas=[[0 for i in range(8)]for i in range(8)]\n",
    "            for i in range(8):\n",
    "                if ferz_list[i][0]!=-1:\n",
    "                    mas=add_ferz(mas,ferz_list[i][0],ferz_list[i][1])\n",
    "    open_pos[count]+=1\n",
    "    ferz_list[count]=check_open_point(mas)[0]\n",
    "    mas=add_ferz(mas,ferz_list[count][0],ferz_list[count][1])\n",
    "    count+=1\n",
    "    return count,ferz_list\n",
    "\n",
    "\n",
    "count,f_list=arrangement_of_queens2()\n",
    "print('Количество ферзей =',count,'\\n')\n",
    "print_matrix_ferz(f_list)"
   ]
  },
  {
   "cell_type": "markdown",
   "id": "c0965091",
   "metadata": {},
   "source": []
  }
 ],
 "metadata": {
  "kernelspec": {
   "display_name": "Python 3 (ipykernel)",
   "language": "python",
   "name": "python3"
  },
  "language_info": {
   "codemirror_mode": {
    "name": "ipython",
    "version": 3
   },
   "file_extension": ".py",
   "mimetype": "text/x-python",
   "name": "python",
   "nbconvert_exporter": "python",
   "pygments_lexer": "ipython3",
   "version": "3.9.7"
  }
 },
 "nbformat": 4,
 "nbformat_minor": 5
}
