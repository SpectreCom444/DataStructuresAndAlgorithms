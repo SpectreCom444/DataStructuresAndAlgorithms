{
 "cells": [
  {
   "cell_type": "markdown",
   "id": "fifteen-sailing",
   "metadata": {},
   "source": [
    "# Лабораторная работа №2\n",
    "## Выполнил студент группы ГРУППА ФИО"
   ]
  },
  {
   "cell_type": "markdown",
   "id": "particular-syndicate",
   "metadata": {},
   "source": [
    "### Оглавление\n",
    "1. [Задание 1](#Задание-№1)\n",
    "2. [Задание 2](#Задание-№2)\n",
    "3. [Задание 3](#Задание-№3)"
   ]
  },
  {
   "cell_type": "markdown",
   "id": "arctic-stocks",
   "metadata": {},
   "source": [
    "### Задание №1\n",
    "Реализовать методы поиска в соответствии с заданием. Организовать генерацию начального набора случайных данных. Для всех вариантов добавить реализацию добавления, поиска и удаления элементов. Оценить время работы каждого алгоритма поиска и сравнить его со временем работы стандартной функции поиска, используемой в выбранном языке программирования."
   ]
  },
  {
   "cell_type": "code",
   "execution_count": 84,
   "id": "caring-truck",
   "metadata": {
    "scrolled": true
   },
   "outputs": [],
   "source": [
    "import random\n",
    "def generator(mas_len,min_d,max_d):\n",
    "    return [random.randint(min_d,max_d+1) for i in range(mas_len)]"
   ]
  },
  {
   "cell_type": "code",
   "execution_count": 98,
   "id": "ad0a9d63",
   "metadata": {},
   "outputs": [],
   "source": [
    "#Бинарный поиск\n",
    "def bin_search(mas,n):\n",
    "    first = 0\n",
    "    last = len(mas)-1\n",
    "    index = -1\n",
    "    while (first <= last) and (index == -1):\n",
    "        mid = (first+last)//2\n",
    "        if mas[mid] == n:\n",
    "            index = mid\n",
    "        else:\n",
    "            if n<mas[mid]:\n",
    "                last = mid -1\n",
    "            else:\n",
    "                first = mid +1\n",
    "    return index"
   ]
  },
  {
   "cell_type": "code",
   "execution_count": 99,
   "id": "75af3ea8",
   "metadata": {},
   "outputs": [],
   "source": [
    "#Бинарное дерево\n",
    "def tree_search(mas,n):\n",
    "    pass"
   ]
  },
  {
   "cell_type": "code",
   "execution_count": 100,
   "id": "abe4b0b4",
   "metadata": {},
   "outputs": [],
   "source": [
    "#Метод Фибоначчи\n",
    "def fib_search(mas,n):\n",
    "    pass"
   ]
  },
  {
   "cell_type": "code",
   "execution_count": 101,
   "id": "34ec2894",
   "metadata": {},
   "outputs": [],
   "source": [
    "#Интерполяционный\n",
    "def interpolation_search(mas,n):\n",
    "    pass"
   ]
  },
  {
   "cell_type": "code",
   "execution_count": 103,
   "id": "663a32ad",
   "metadata": {
    "scrolled": true
   },
   "outputs": [
    {
     "name": "stdout",
     "output_type": "stream",
     "text": [
      "Введите тип поиска:\n",
      "1-Бинарный поиск\n",
      "2-Бинарное дерево\n",
      "3-Метод Фибоначчи\n",
      "4-Интерполяционный\n",
      "\n",
      "1\n",
      "________________________________________________________________________________________________________________________\n",
      "Что нужно сделать:\n",
      "1-Найти элемент\n",
      "2-Добавить элемент\n",
      "3-Удалить элемент\n",
      "\n",
      "3\n",
      "________________________________________________________________________________________________________________________\n",
      "Исходная последовательность:\n",
      " 60 72 80 68 62 82 13 25 79 59\n",
      "Введите искомое число:13\n",
      "данного элемента в последовательности не существует!\n",
      "-1\n",
      "[60, 72, 80, 68, 62, 82, 13, 25, 79, 59]\n"
     ]
    }
   ],
   "source": [
    "type_serch=int(input('Введите тип поиска:\\n1-Бинарный поиск\\n2-Бинарное дерево\\n3-Метод Фибоначчи\\n4-Интерполяционный\\n\\n'))\n",
    "print('_'*120,)\n",
    "type_action=int(input('Что нужно сделать:\\n1-Найти элемент\\n2-Добавить элемент\\n3-Удалить элемент\\n\\n'))\n",
    "print('_'*120)\n",
    "mas=generator(10,0,100)\n",
    "print('Исходная последовательность:\\n',*mas)\n",
    "n=int(input('Введите искомое число:'))\n",
    "def type_search_void(type_serch,n):\n",
    "    index=0   \n",
    "    if type_serch==1:      \n",
    "        index=bin_search(mas,n)\n",
    "    elif type_serch==2:\n",
    "        index=tree_search(mas,n)     \n",
    "    elif type_serch==3:\n",
    "        index=fib_search(mas,n)  \n",
    "    elif type_serch==4:\n",
    "        index=interpolation_search(mas,n)\n",
    "    if index==-1:\n",
    "        print('данного элемента в последовательности не существует!')\n",
    "        return -1\n",
    "    else:\n",
    "        return index\n",
    "def type_action_void(mas,index,type_action):\n",
    "    if type_action==1:      \n",
    "        print('Элемент находится под индексом:',index)\n",
    "    elif type_action==2:\n",
    "        num = input('Введите элемент для добавления в массив:')\n",
    "        print('Массив с добавленным элементом, после числа',n,':\\n',mas.insert(index,num))     \n",
    "    elif type_action==3:\n",
    "        print('Массив с удалённым элементом',n,':\\n',mas.pop(index)) \n",
    "    return mas\n",
    "index=type_search_void(type_serch,n)\n",
    "print(index)\n",
    "type_action_void(mas,index,type_action)\n",
    "\n"
   ]
  },
  {
   "cell_type": "markdown",
   "id": "maritime-conversation",
   "metadata": {},
   "source": [
    "## Задание №2\n",
    "Написать соответствующие решения для заданных методов."
   ]
  },
  {
   "cell_type": "code",
   "execution_count": null,
   "id": "97f9de37",
   "metadata": {},
   "outputs": [],
   "source": [
    "#Простое рехэширование"
   ]
  },
  {
   "cell_type": "code",
   "execution_count": null,
   "id": "b4b80e3a",
   "metadata": {},
   "outputs": [],
   "source": [
    "#Рехэширование с помощью псевдослучайных чисел\n"
   ]
  },
  {
   "cell_type": "code",
   "execution_count": null,
   "id": "1addc092",
   "metadata": {},
   "outputs": [],
   "source": [
    "#Метод цепочек"
   ]
  },
  {
   "cell_type": "markdown",
   "id": "catholic-roots",
   "metadata": {},
   "source": [
    "### Задание №3\n",
    "Расставить на стандартной 64-клеточной шахматной доске 8 ферзей так, чтобы ни один из них не находился под боем другого». Подразумевается, что ферзь бьёт все клетки, расположенные по вертикалям, горизонталям и обеим диагоналям\n",
    "Написать программу,  которая находит хотя бы один способ решения задач.\n"
   ]
  },
  {
   "cell_type": "code",
   "execution_count": null,
   "id": "09de30c9",
   "metadata": {},
   "outputs": [],
   "source": []
  }
 ],
 "metadata": {
  "kernelspec": {
   "display_name": "Python 3 (ipykernel)",
   "language": "python",
   "name": "python3"
  },
  "language_info": {
   "codemirror_mode": {
    "name": "ipython",
    "version": 3
   },
   "file_extension": ".py",
   "mimetype": "text/x-python",
   "name": "python",
   "nbconvert_exporter": "python",
   "pygments_lexer": "ipython3",
   "version": "3.9.7"
  }
 },
 "nbformat": 4,
 "nbformat_minor": 5
}
