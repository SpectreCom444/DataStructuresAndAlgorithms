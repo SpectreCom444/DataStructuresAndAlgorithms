{
 "cells": [
  {
   "cell_type": "markdown",
   "metadata": {
    "id": "0z3KlfKDn4_K"
   },
   "source": [
    "# Лабораторная работа 6. \n",
    "# Сетевые алгоритмы. Динамические алгоритмы поиска путей.\n"
   ]
  },
  {
   "cell_type": "markdown",
   "metadata": {
    "id": "96Gi_LEvmSVH"
   },
   "source": [
    "## Выполнил студент группы БФИ2001 Ковачев Виктор\n",
    "***"
   ]
  },
  {
   "cell_type": "markdown",
   "metadata": {
    "id": "GjdIp8aToKIe"
   },
   "source": [
    "### Задание\n",
    "\n",
    "1.  Реализовать алгоритм поиска кратчайшего расстояния между двумя вершинами ориентированного взвешенного графа в соответствии с вариантом. \n",
    "\n",
    "2.  Предусмотреть задание графа в виде матрицы смежности/инцидентности, читаемой из файла, либо графически с помощью пользовательского интерфейса. \n",
    "\n",
    "3.  Разработать графический интерфейс пользователя с визуализацией графа и отображением кратчайшего расстояния между задаваемыми пользователем вершинами.\n",
    "\n",
    "4. По результатам работы проанализировать временную сложность работы заданного алгоритма в зависимости от числа узлов и ребер графа.\n",
    "Данные представить в виде таблицы.\n",
    "\n"
   ]
  },
  {
   "cell_type": "markdown",
   "metadata": {
    "id": "LhhUXrAmotIA"
   },
   "source": [
    "### Алгоритмы:\n",
    "\n",
    "Алгоритм Флойда-Уоршелла| Алгоритм Дейкстры | Алгоритм Беллмана-Форда | Алгоритм Джонсона| Алгоритм Левита | Алгоритм Йена\n",
    "\n"
   ]
  },
  {
   "cell_type": "markdown",
   "metadata": {
    "id": "Wggfn8l7nG72"
   },
   "source": [
    "### Выполнение:"
   ]
  },
  {
   "cell_type": "code",
   "execution_count": 58,
   "metadata": {},
   "outputs": [
    {
     "name": "stdout",
     "output_type": "stream",
     "text": [
      "[('A', 'B', '3'), ('A', 'C', '4'), ('A', 'D', '7'), ('B', 'C', '5'), ('B', 'G', '4'), ('C', 'E', '4'), ('C', 'G', '8'), ('D', 'C', '4'), ('E', 'A', '3'), ('E', 'F', '8'), ('F', 'D', '4'), ('G', 'F', '7'), ('G', 'H', '3'), ('H', 'A', '9'), ('H', 'F', '4')]\n"
     ]
    }
   ],
   "source": [
    "#чтение матрицы смежности/инцидентности из файла\n",
    "#первая строка в файле и первый столбец-название точек\n",
    "#числа 1-9 взвешенные расстояния между точками\n",
    "# E-остуствие пути между точками от слова empty \n",
    "def normalization(f):\n",
    "    matrix=[[]]\n",
    "    st=0\n",
    "    for s in f:\n",
    "        for i in range(len(s)):\n",
    "            if s[i]==\"\\n\":\n",
    "                matrix.append([])\n",
    "                st+=1\n",
    "            else:  \n",
    "                matrix[st].append(s[i])\n",
    "    listP= matrix.pop(0)[1:]\n",
    "    path2=[]\n",
    "    for i in range(len(listP)):\n",
    "        for j in range(1,len(listP)+1):\n",
    "            if matrix[i][j]!='E':\n",
    "                path2.append((listP[i],listP[j-1],matrix[i][j]))\n",
    "    return path2,listP\n",
    "f = open('C:/Users/Виктор/Desktop/вуз/СиАОД/MatrixGraph.txt','r')\n",
    "path2,listP=normalization(f)\n",
    "f.close()\n",
    "print(path2)\n"
   ]
  },
  {
   "cell_type": "code",
   "execution_count": 59,
   "metadata": {},
   "outputs": [
    {
     "name": "stdout",
     "output_type": "stream",
     "text": [
      "('G', 'F', '7') ('F', 'D', '4') ('D', 'C', '4') ('C', 'E', '4')\n"
     ]
    }
   ],
   "source": [
    "#Алгоритм Левита\n",
    "def FindPath(enter,exit,path2,n,mas):\n",
    "    M0,M1,M1_,M2=[],[],[],[]\n",
    "    masD=['E']*n\n",
    "    masName=['0']*n\n",
    "    for i in range(n):\n",
    "        if mas[i]!=enter:\n",
    "            M2.append(mas[i])\n",
    "        else:\n",
    "            M1.append(mas[i])\n",
    "            masD[i]=0\n",
    "    while len(M1)>0:\n",
    "        for i in range(len(path2)):\n",
    "            if path2[i][0]==M1[0]:   \n",
    "                point=path2[i][1]\n",
    "                if point in M2:\n",
    "                    if path2[i][0]==enter:\n",
    "                        masD[mas.index(path2[i][1])]=int(path2[i][2])\n",
    "                        masName[mas.index(path2[i][1])]=path2[i][0]\n",
    "                    else:\n",
    "                        masD[mas.index(path2[i][1])]=int(masD[mas.index(M1[0])])+int(path2[i][2])\n",
    "                        masName[mas.index(path2[i][1])]=path2[i][0]\n",
    "                    M1.append(M2.pop(M2.index(path2[i][1])))\n",
    "                elif point in M1:\n",
    "                    if len(M1_)==0:\n",
    "                        if int(masD[mas.index(point)])>int(masD[mas.index(M1[0])])+int(path2[i][2]):\n",
    "                            masD[mas.index(point)]=int(masD[mas.index(M1[0])])+int(path2[i][2])\n",
    "                            masName[mas.index(path2[i][1])]=path2[i][0]\n",
    "                    else:\n",
    "                        if int(masD[mas.index(point)])>int(masD[mas.index(M1[0])])+int(path2[i][2]):\n",
    "                            masD[mas.index(point)]=int(masD[mas.index(M1[0])])+int(path2[i][2])\n",
    "                            masName[mas.index(path2[i][1])]=path2[i][0]\n",
    "                            M0.append(M1_.pop(0))\n",
    "                elif point in M0:\n",
    "                    if int(masD[mas.index(point)])>int(masD[mas.index(M1[0])])+int(path2[i][2]):\n",
    "                        masD[mas.index(point)]= int(masD[mas.index(M1[0])])+int(path2[i][2])\n",
    "                        masName[mas.index(path2[i][1])]=path2[i][0]\n",
    "                        M1_.append(M0.pop(M0.index(point))) \n",
    "        M0.append(M1.pop(0))            \n",
    "    take=exit\n",
    "    rMas=[]\n",
    "    while take!=enter:\n",
    "        nextP=masName[listP.index(take)]\n",
    "        for i in range(len(path2)):\n",
    "            if path2[i][0]==nextP and path2[i][1]==take:\n",
    "                length=(path2[i][2])\n",
    "        rMas.insert(0,(nextP,take,length))\n",
    "        take=nextP   \n",
    "    return rMas  \n",
    "enter='G'\n",
    "exit='E'\n",
    "rezMatrix=FindPath(enter,exit,path2,len(listP),listP)\n",
    "print(*rezMatrix)"
   ]
  },
  {
   "cell_type": "code",
   "execution_count": 109,
   "metadata": {},
   "outputs": [
    {
     "name": "stdout",
     "output_type": "stream",
     "text": [
      "посторение пути из точки G в тчоку E:\n",
      "G->F->D->C->E\n"
     ]
    },
    {
     "data": {
      "image/png": "[encoded data removed]",
      "text/plain": [
       "<Figure size 432x288 with 1 Axes>"
      ]
     },
     "metadata": {},
     "output_type": "display_data"
    }
   ],
   "source": [
    "#Визуализация графа\n",
    "import networkx as nx\n",
    "import matplotlib.pyplot as plt\n",
    "print(f'посторение пути из точки {enter} в тчоку {exit}:')\n",
    "print(enter,'->',*[f'{rezMatrix[i][1]}->' for i in range(len(rezMatrix)-1)],exit,sep='')\n",
    "G = nx.DiGraph() \n",
    "M = nx.DiGraph()\n",
    "E = path2\n",
    "Er=rezMatrix\n",
    "G.add_weighted_edges_from(E)\n",
    "M.add_weighted_edges_from(Er)\n",
    "pos=nx.spring_layout(G)\n",
    "\n",
    "nx.draw(G, pos, with_labels=True, font_weight='bold',font_color='white',node_color='black')\n",
    "nx.draw(M, pos, with_labels=True, font_weight='bold',font_color='white',node_color='red',edge_color='red')\n",
    "\n",
    "edge_weight = nx.get_edge_attributes(G,'weight')\n",
    "nx.draw_networkx_edge_labels(G, pos, edge_labels = edge_weight)\n",
    "plt.show()"
   ]
  },
  {
   "cell_type": "code",
   "execution_count": 65,
   "metadata": {},
   "outputs": [
    {
     "name": "stdout",
     "output_type": "stream",
     "text": [
      "/ABCDE\n",
      "AE5EEE\n",
      "BEE33E\n",
      "C3EEE3\n",
      "D3EEE3\n",
      "EEE3EE\n"
     ]
    }
   ],
   "source": [
    "#Это кода позваляет генерировать матрицы для графа нужного размера и с нужным кол-вом рёбер\n",
    "import time\n",
    "import random\n",
    "def checkPos(posX,posY,i,j):\n",
    "    for i_ in range(len(posX)):\n",
    "                if posX[i_]==i:\n",
    "                    if posY[i_]==j:\n",
    "                        return True\n",
    "    return False\n",
    "\n",
    "def createMatrix(n,m,count):\n",
    "    abc='ABCDEFGHJKLMNOP'\n",
    "    mas='/'\n",
    "    posX=[]\n",
    "    posY=[]\n",
    "    while len(posX)<count-1:\n",
    "        valueX=random.randint(0,n-1)\n",
    "        valueY=random.randint(0,m-1)\n",
    "        if not checkPos(posX,posY,valueX,valueY):\n",
    "            if valueX!=valueY and (valueX!=0 and valueY!=1):\n",
    "                posX.append(valueX)\n",
    "                posY.append(valueY)\n",
    "    for i in range(n):\n",
    "        mas+=abc[i]\n",
    "    for i in range(m):\n",
    "        mas+='\\n'+abc[i]\n",
    "        for j in range(n):\n",
    "            if i==0 and j==1:\n",
    "                mas+='5'  \n",
    "            elif i==j:\n",
    "                mas+='E'\n",
    "            elif checkPos(posX,posY,i,j):\n",
    "                mas+='3'\n",
    "            else:\n",
    "                mas+='E'\n",
    "    return mas\n",
    "        \n",
    "        \n",
    "print(createMatrix(5,5,8))"
   ]
  },
  {
   "cell_type": "code",
   "execution_count": 61,
   "metadata": {
    "id": "681a95mZnOSa"
   },
   "outputs": [
    {
     "name": "stdout",
     "output_type": "stream",
     "text": [
      "Время выполнения алгоритма в зависимости от числа узлов и ребер графа \n"
     ]
    },
    {
     "data": {
      "text/html": [
       "<table><tr><td></td><td>Узлов: 3</td><td>Узлов: 4</td><td>Узлов: 5</td><td>Узлов: 6</td><td>Узлов: 7</td><td>Узлов: 8</td></tr><tr><td>Рёбер: 3</td><td>0.0</td><td>/</td><td>/</td><td>/</td><td>/</td><td>/</td></tr><tr><td>Рёбер: 4</td><td>/</td><td>0.0</td><td>/</td><td>/</td><td>/</td><td>/</td></tr><tr><td>Рёбер: 5</td><td>/</td><td>0.0</td><td>0.0</td><td>/</td><td>/</td><td>/</td></tr><tr><td>Рёбер: 6</td><td>/</td><td>0.0</td><td>0.0</td><td>0.0</td><td>/</td><td>/</td></tr><tr><td>Рёбер: 7</td><td>/</td><td>/</td><td>0.0</td><td>0.0</td><td>0.0</td><td>/</td></tr><tr><td>Рёбер: 8</td><td>/</td><td>/</td><td>0.0</td><td>0.0</td><td>0.0</td><td>0.0</td></tr><tr><td>Рёбер: 9</td><td>/</td><td>/</td><td>0.0</td><td>0.0</td><td>0.0</td><td>0.0</td></tr><tr><td>Рёбер: 10</td><td>/</td><td>/</td><td>0.0</td><td>0.0</td><td>0.0</td><td>0.0</td></tr></table>"
      ],
      "text/plain": [
       "<IPython.core.display.HTML object>"
      ]
     },
     "metadata": {},
     "output_type": "display_data"
    }
   ],
   "source": [
    "#Вывод и анализ данных\n",
    "from IPython.display import HTML, display\n",
    "import time\n",
    "import random\n",
    "print('Время выполнения алгоритма в зависимости от числа узлов и ребер графа ')\n",
    "data =[\n",
    "    ['','Узлов: 3','Узлов: 4','Узлов: 5','Узлов: 6',\n",
    "    'Узлов: 7','Узлов: 8'],\n",
    "    ['Рёбер: 3',0,\"/\",\"/\",\"/\",\"/\",\"/\",],\n",
    "    ['Рёбер: 4',\"/\",0,\"/\",\"/\",\"/\",\"/\",],\n",
    "    ['Рёбер: 5',\"/\",0,0,\"/\",\"/\",\"/\",],\n",
    "    ['Рёбер: 6',\"/\",0,0,0,\"/\",\"/\",],\n",
    "    ['Рёбер: 7',\"/\",\"/\",0,0,0,\"/\",],\n",
    "    ['Рёбер: 8',\"/\",\"/\",0,0,0,0,],\n",
    "    ['Рёбер: 9',\"/\",\"/\",0,0,0,0,],\n",
    "    ['Рёбер: 10',\"/\",\"/\",0,0,0,0,],\n",
    "]\n",
    "\n",
    "for i in range(1,7):\n",
    "    for j in range(1,9):    \n",
    "        if data[j][i]!='/':\n",
    "            path,listP=normalization(createMatrix(j+3,j+3,i+3))\n",
    "            start_time = time.time()\n",
    "            rezMatrix=FindPath('A','B',path,len(listP),listP)\n",
    "            data[j][i]=str(round(time.time() - start_time,8))\n",
    "\n",
    "    \n",
    "display(HTML(\n",
    "   '<table><tr>{}</tr></table>'.format(\n",
    "       '</tr><tr>'.join(\n",
    "           '<td>{}</td>'.format('</td><td>'.join(str(_) for _ in row)) for row in data)\n",
    "       )\n",
    "))\n",
    "\n"
   ]
  },
  {
   "cell_type": "markdown",
   "metadata": {
    "id": "diOb-K7LnO5a"
   },
   "source": [
    "### Из-за достаточно высокой скорости работы алгоритма Левита при разумных размерах графа не получается увидеть весомые отличая в скорости работы алгоритма при различных входных данных"
   ]
  }
 ],
 "metadata": {
  "colab": {
   "name": "Lab6.ipynb",
   "provenance": []
  },
  "kernelspec": {
   "display_name": "Python 3 (ipykernel)",
   "language": "python",
   "name": "python3"
  },
  "language_info": {
   "codemirror_mode": {
    "name": "ipython",
    "version": 3
   },
   "file_extension": ".py",
   "mimetype": "text/x-python",
   "name": "python",
   "nbconvert_exporter": "python",
   "pygments_lexer": "ipython3",
   "version": "3.9.7"
  }
 },
 "nbformat": 4,
 "nbformat_minor": 1
}
