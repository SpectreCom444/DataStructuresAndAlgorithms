{
 "cells": [
  {
   "cell_type": "markdown",
   "metadata": {
    "id": "WPvB9TcMmKA6"
   },
   "source": [
    "# Лабораторная работа №5\n",
    "# Рекурсия. Фракталы."
   ]
  },
  {
   "cell_type": "markdown",
   "metadata": {
    "id": "96Gi_LEvmSVH"
   },
   "source": [
    "## Выполнил студент группы ФИО ГРУППА\n",
    "***"
   ]
  },
  {
   "cell_type": "markdown",
   "metadata": {
    "id": "4clYOyb0mbEv"
   },
   "source": [
    "### Задание:\n",
    "Реализовать генерацию заданного типа фрактала с применением рекурсивных функций.\n",
    "\n",
    "\n",
    "Добавить возможность задания глубины фрактала. \n",
    "\n",
    "\n",
    "Оценить глубину рекурсии. \n",
    "\n",
    "\n",
    "Построить таблицу зависимости времени построения от глубины фрактала."
   ]
  },
  {
   "cell_type": "markdown",
   "metadata": {
    "id": "wDXHbUmMmhRL"
   },
   "source": [
    "### Список фракталов:\n",
    "\n",
    "Кривая Коха\n",
    "| Кривая Гильберта\n",
    "| Кривая Серпинского\n",
    "| Салфетка Серпинского\n",
    "| Ковер Серпинского\n",
    "| Дерево Пифагора "
   ]
  },
  {
   "cell_type": "markdown",
   "metadata": {
    "id": "Wggfn8l7nG72"
   },
   "source": [
    "### Выполнение:"
   ]
  },
  {
   "cell_type": "code",
   "execution_count": 65,
   "metadata": {},
   "outputs": [],
   "source": [
    "import timeit\n",
    "import turtle\n",
    "matix=[\n",
    "    ['','Кривая Коха','Кривая Гильберта','Кривая Серпинского','Салфетка Серпинского','Ковер Серпинского','Дерево Пифагора'],\n",
    "    ['Глубина 1','','','','','',''],\n",
    "    ['Глубина 2','','','','','',''],\n",
    "    ['Глубина 3','','','','','',''],\n",
    "    ['Глубина 4','','','','','',''],\n",
    "]\n"
   ]
  },
  {
   "cell_type": "code",
   "execution_count": 66,
   "metadata": {},
   "outputs": [],
   "source": [
    "#Для оценки глубины рекурсии\n",
    "class degree_nesting:\n",
    "    def __init__(self):\n",
    "        self.maxD=0\n",
    "    def check(self,n):\n",
    "        if n>self.maxD:\n",
    "            self.maxD=n"
   ]
  },
  {
   "cell_type": "code",
   "execution_count": 110,
   "metadata": {
    "id": "681a95mZnOSa"
   },
   "outputs": [
    {
     "name": "stdout",
     "output_type": "stream",
     "text": [
      "Глубина фрактала: 3\n"
     ]
    }
   ],
   "source": [
    "#Кривая Коха\n",
    "def koch_curve(size, n,sn):\n",
    "    sn.check(n)\n",
    "    if n == 0:\n",
    "        turtle.forward(size)\n",
    "    else:\n",
    "        koch_curve(size / 3, n - 1,sn)\n",
    "        turtle.left(60)\n",
    "        koch_curve(size / 3, n - 1,sn)\n",
    "        turtle.right(120)\n",
    "        koch_curve(size / 3, n - 1,sn)\n",
    "        turtle.left(60)\n",
    "        koch_curve(size / 3, n - 1,sn)\n",
    "\n",
    "        \n",
    "turtle.speed('fastest')\n",
    "turtle.pensize(2)\n",
    "\n",
    "sn=degree_nesting()\n",
    "n=3 #глубина рекурсии\n",
    "koch_curve(400, n,sn)\n",
    "print(\"Глубина фрактала:\",sn.maxD)\n",
    "turtle.done()\n"
   ]
  },
  {
   "cell_type": "code",
   "execution_count": 108,
   "metadata": {},
   "outputs": [
    {
     "name": "stdout",
     "output_type": "stream",
     "text": [
      "Глубина фрактала: 3\n"
     ]
    }
   ],
   "source": [
    "#Кривая Гильберта\n",
    "def hilbert_curve( A, parity, n,sn):\n",
    "    sn.check(n)\n",
    "    if n < 1:\n",
    "        return\n",
    "    turtle.left(parity * 90)\n",
    "    hilbert_curve( A, - parity, n - 1,sn)\n",
    "    turtle.forward(A)\n",
    "    turtle.right(parity * 90)\n",
    "    hilbert_curve( A, parity, n - 1,sn)\n",
    "    turtle.forward(A)\n",
    "    hilbert_curve( A, parity, n - 1,sn)\n",
    "    turtle.right(parity * 90)\n",
    "    turtle.forward(A)\n",
    "    hilbert_curve( A, - parity, n - 1,sn)\n",
    "    turtle.left(parity * 90)\n",
    "\n",
    "turtle.speed('fastest')        \n",
    "turtle.pensize(2)  \n",
    "\n",
    "\n",
    "sn=degree_nesting()\n",
    "n=3 #глубина рекурсии\n",
    "hilbert_curve( 10, 1, n,sn)\n",
    "print(\"Глубина фрактала:\",sn.maxD)\n",
    "turtle.done()"
   ]
  },
  {
   "cell_type": "code",
   "execution_count": 106,
   "metadata": {},
   "outputs": [
    {
     "name": "stdout",
     "output_type": "stream",
     "text": [
      "Глубина фрактала: 3\n"
     ]
    }
   ],
   "source": [
    "#Кривая Серпинского\n",
    "def sierpinski_curve (size, n,sn):\n",
    "    curve(size, n, \"end\",sn)\n",
    "    turtle.right(90 + 45)\n",
    "    turtle.forward(size/pow(2, n))\n",
    "\n",
    "def curve (size, n, pos,sn):\n",
    "    sn.check(n)\n",
    "    if n == 0:\n",
    "        turtle.left(45)\n",
    "        turtle.forward(size)\n",
    "        turtle.right(90)\n",
    "        turtle.forward(size)\n",
    "        turtle.right(90)\n",
    "        turtle.forward(size)\n",
    "        turtle.left(45)\n",
    "            \n",
    "    else:\n",
    "        if pos == 'diag up': \n",
    "            #left down\n",
    "            if n != 1:\n",
    "                curve(size/2, n-1, \"diag up\",sn)\n",
    "            #left up\n",
    "            turtle.left(45)\n",
    "            turtle.forward(size/pow(2, n))\n",
    "            turtle.left(45)\n",
    "            turtle.forward(size/pow(2, n-1))\n",
    "            curve(size, n, \"end\",sn)\n",
    "            turtle.forward(size/pow(2, n-1))\n",
    "            #right up\n",
    "            if n != 1:\n",
    "                curve(size/2, n-1, \"diag up\",sn)\n",
    "        elif pos == 'diag down':\n",
    "            #right up\n",
    "            if n != 1:\n",
    "                curve(size/2, n-1, \"diag down\",sn)\n",
    "            #right down\n",
    "            turtle.forward(size/pow(2, n-1))\n",
    "            curve(size, n, \"end\",sn)\n",
    "            turtle.forward(size/pow(2, n-1))\n",
    "            turtle.left(45)\n",
    "            turtle.forward(size/pow(2, n))\n",
    "            turtle.left(45)\n",
    "            #left down\n",
    "            if n != 1:\n",
    "                curve(size/2, n-1, \"diag down\",sn)\n",
    "            \n",
    "        elif pos == 'center':\n",
    "            #left up\n",
    "            turtle.left(45)\n",
    "            turtle.forward(size/pow(2, n))\n",
    "            turtle.left(45)\n",
    "            turtle.forward(size/pow(2, n-1))\n",
    "            curve(size, n, \"end\",sn)\n",
    "            #right up\n",
    "            turtle.forward(size/pow(2, n-1))\n",
    "            curve(size, n, \"end\",sn)\n",
    "            #left down\n",
    "            turtle.forward(size/pow(2, n-1))\n",
    "            curve(size, n, \"end\",sn)\n",
    "            #right down\n",
    "            turtle.forward(size/pow(2, n-1))\n",
    "            turtle.left(45)\n",
    "            turtle.forward(size/pow(2, n))\n",
    "            turtle.left(45)\n",
    "            \n",
    "        else: #pos == end\n",
    "            #left down\n",
    "            if n > 2:\n",
    "                curve(size/4, n-2, \"diag up\",sn)\n",
    "            #else\n",
    "            curve(size/2, n-1, \"center\",sn)\n",
    "            #left down\n",
    "            if n > 2:\n",
    "                curve(size/4, n-2, \"diag down\",sn)\n",
    "                \n",
    "turtle.speed('fastest')        \n",
    "turtle.pensize(2)  \n",
    "\n",
    "sn=degree_nesting() \n",
    "n=3 #глубина рекурсии\n",
    "sierpinski_curve(50, n,sn)\n",
    "print(\"Глубина фрактала:\",sn.maxD)\n",
    "turtle.done()"
   ]
  },
  {
   "cell_type": "code",
   "execution_count": 104,
   "metadata": {
    "scrolled": true
   },
   "outputs": [
    {
     "name": "stdout",
     "output_type": "stream",
     "text": [
      "Глубина фрактала: 3\n"
     ]
    }
   ],
   "source": [
    "#Салфетка Серпинского\n",
    "import math\n",
    "\n",
    "def napkin_sierpinski(n,t,size,sn):\n",
    "    sn.check(n)\n",
    "    if n==0:\n",
    "        for i in range(3):\n",
    "            t.forward(size)\n",
    "            t.left(120)\n",
    "\n",
    "    else:\n",
    "       napkin_sierpinski(n-1,t,size/2,sn)\n",
    "       t.forward(size/2)\n",
    "       napkin_sierpinski(n-1,t,size/2,sn)\n",
    "       t.forward(size/2)\n",
    "       t.left(120)\n",
    "       t.forward(size/2)\n",
    "       napkin_sierpinski(n-1,t,size/2,sn)\n",
    "       t.forward(size/2)\n",
    "       t.left(120)\n",
    "       t.forward(size)\n",
    "       t.left(120)\n",
    "\n",
    "turtle.speed('fastest') \n",
    "turtle.tracer(2)\n",
    "\n",
    "\n",
    "sn=degree_nesting()  \n",
    "n=3 #глубина рекурсии\n",
    "napkin_sierpinski(n,turtle,200,sn)\n",
    "print(\"Глубина фрактала:\",sn.maxD)\n",
    "turtle.done()"
   ]
  },
  {
   "cell_type": "code",
   "execution_count": 102,
   "metadata": {},
   "outputs": [
    {
     "name": "stdout",
     "output_type": "stream",
     "text": [
      "Глубина фрактала: 3\n"
     ]
    }
   ],
   "source": [
    "#Ковер Серпинского\n",
    "def sierpinski_carpet(n, m,sn):\n",
    "    sn.check(n)\n",
    "    if n == 0:\n",
    "        turtle.begin_fill()\n",
    "        for _ in range(4):\n",
    "            turtle.forward(m)\n",
    "            turtle.left(90)\n",
    "        turtle.end_fill()\n",
    "    else:\n",
    "        for _ in range(4):\n",
    "            sierpinski_carpet(n - 1, m / 3,sn)\n",
    "            turtle.forward(m / 3)\n",
    "            \n",
    "            sierpinski_carpet(n - 1, m / 3,sn)\n",
    "            turtle.forward(m / 3)\n",
    "            \n",
    "            turtle.forward(m / 3)\n",
    "            turtle.left(90)\n",
    "            \n",
    "turtle.speed('fastest') \n",
    "turtle.tracer(10)\n",
    "\n",
    "\n",
    "sn=degree_nesting()              \n",
    "n=3 #глубина рекурсии\n",
    "sierpinski_carpet(n, 400,sn)\n",
    "print(\"Глубина фрактала:\",sn.maxD)\n",
    "turtle.done()"
   ]
  },
  {
   "cell_type": "code",
   "execution_count": 100,
   "metadata": {},
   "outputs": [
    {
     "name": "stdout",
     "output_type": "stream",
     "text": [
      "Глубина фрактала: 6\n"
     ]
    }
   ],
   "source": [
    "#Дерево Пифагора\n",
    "turtle.penup()\n",
    "turtle.goto(0,-250)\n",
    "turtle.pendown()\n",
    "turtle.left(90)\n",
    "turtle.pensize(3)\n",
    "turtle.speed('fastest')        \n",
    "turtle.fd(200)\n",
    "\n",
    "\n",
    "turtle.delay(1)\n",
    "\n",
    "def DrawTree(length,angle,k,sn):\n",
    "    sn.check(length//k)\n",
    "    if length > k:     \n",
    "        turtle.left(angle)\n",
    "        turtle.fd(length)\n",
    "        DrawTree(length-k,angle,k,sn)       \n",
    "        turtle.backward(length)        \n",
    "        \n",
    "        turtle.rt(2*angle)          \n",
    "        \n",
    "        turtle.fd(length)\n",
    "        DrawTree(length-k,angle,k,sn)      \n",
    "        turtle.backward(length)         \n",
    "        \n",
    "        turtle.left(angle)\n",
    "        \n",
    "sn=degree_nesting()   \n",
    "n=6 #глубина рекурсии\n",
    "DrawTree(15*n,35,15,sn)\n",
    "print(\"Глубина фрактала:\",sn.maxD)\n",
    "turtle.done()"
   ]
  },
  {
   "cell_type": "code",
   "execution_count": 96,
   "metadata": {},
   "outputs": [],
   "source": [
    "class table:\n",
    "    def check_length(self,matrix):\n",
    "        length=[]\n",
    "        for n in range(len(matrix[0])):\n",
    "            maxL=0\n",
    "            for i in range(len(matrix)):\n",
    "                if maxL<len(matrix[i][n]):\n",
    "                    maxL=len(matrix[i][n])\n",
    "            length.append(maxL)\n",
    "        return length\n",
    "        \n",
    "    def drowCell(self,n):\n",
    "        print('-'*(n+2),'+',sep='',end='')\n",
    "        \n",
    "    def addValue(self,value,n):\n",
    "        print(' ',value.ljust(n+1,' '),'|',end='',sep='')\n",
    "    \n",
    "    def print_matrix(self,matrix):\n",
    "        length=self.check_length(matrix)\n",
    "       \n",
    "        for i in range(len(matrix)): \n",
    "            print('+',end='')\n",
    "            for j in range(len(matrix[i])):\n",
    "                self.drowCell(length[j]) \n",
    "            print()\n",
    "            \n",
    "            print('|',end='')\n",
    "            for j in range(len(matrix[i])):\n",
    "                self.addValue(matrix[i][j],length[j])   \n",
    "            print()\n",
    "            \n",
    "        # нижняя линия матрицы    \n",
    "        print('+',end='')\n",
    "        for j in range(len(matrix[i])):\n",
    "            self.drowCell(length[j])\n",
    "        print()\n",
    "        \n",
    "        "
   ]
  },
  {
   "cell_type": "code",
   "execution_count": 98,
   "metadata": {},
   "outputs": [
    {
     "name": "stdout",
     "output_type": "stream",
     "text": [
      "таблица зависимости времени построения от глубины фрактала:\n",
      "\n",
      "+-----------+-------------+------------------+--------------------+----------------------+-------------------+-----------------+\n",
      "|           | Кривая Коха | Кривая Гильберта | Кривая Серпинского | Салфетка Серпинского | Ковер Серпинского | Дерево Пифагора |\n",
      "+-----------+-------------+------------------+--------------------+----------------------+-------------------+-----------------+\n",
      "| Глубина 1 | 0.001       | 0.002            | 0.001              | 0.004                | 0.029             | 0.0             |\n",
      "+-----------+-------------+------------------+--------------------+----------------------+-------------------+-----------------+\n",
      "| Глубина 2 | 0.004       | 0.007            | 0.007              | 0.016                | 0.289             | 0.106           |\n",
      "+-----------+-------------+------------------+--------------------+----------------------+-------------------+-----------------+\n",
      "| Глубина 3 | 0.013       | 0.043            | 0.021              | 0.050                | 5.646             | 0.361           |\n",
      "+-----------+-------------+------------------+--------------------+----------------------+-------------------+-----------------+\n",
      "| Глубина 4 | 0.023       | 0.090            | 0.081              | 0.182                | 237.3             | 0.797           |\n",
      "+-----------+-------------+------------------+--------------------+----------------------+-------------------+-----------------+\n"
     ]
    }
   ],
   "source": [
    "import time\n",
    "turtle.speed('fastest') \n",
    "turtle.tracer(2)\n",
    "table=table()\n",
    "maxTest=4\n",
    "\n",
    "for i in range(1,maxTest+1):\n",
    "    start_time = time.time()\n",
    "    koch_curve(400, i,sn) \n",
    "    matix[i][1]=str(time.time() - start_time)[:5]\n",
    "turtle.goto(0,-250)\n",
    "for i in range(1,maxTest+1):\n",
    "    start_time = time.time()\n",
    "    hilbert_curve( 10, 1, i,sn)\n",
    "    matix[i][2]=str(time.time() - start_time)[:5]\n",
    "turtle.goto(0,-250)    \n",
    "for i in range(1,maxTest+1):\n",
    "    start_time = time.time()\n",
    "    sierpinski_curve(50, i,sn)   \n",
    "    matix[i][3]=str(time.time() - start_time)[:5]\n",
    "turtle.goto(0,-250)\n",
    "for i in range(1,maxTest+1):\n",
    "    start_time = time.time()\n",
    "    napkin_sierpinski(i,turtle,200,sn)\n",
    "    matix[i][4]=str(time.time() - start_time)[:5]\n",
    "turtle.goto(0,-250)\n",
    "for i in range(1,maxTest+1):\n",
    "    start_time = time.time()\n",
    "    sierpinski_carpet(i, 200,sn) \n",
    "    matix[i][5]=str(time.time() - start_time)[:5]\n",
    "turtle.goto(0,-250)\n",
    "for i in range(1,maxTest+1):\n",
    "    start_time = time.time()\n",
    "    DrawTree(15*i,35,15,sn)\n",
    "    matix[i][6]=str(time.time() - start_time)[:5]\n",
    "\n",
    "print('таблица зависимости времени построения от глубины фрактала:\\n')\n",
    "table.print_matrix(matix)\n",
    "turtle.done()  "
   ]
  },
  {
   "cell_type": "markdown",
   "metadata": {
    "id": "diOb-K7LnO5a"
   },
   "source": [
    "### Вывод"
   ]
  }
 ],
 "metadata": {
  "colab": {
   "collapsed_sections": [],
   "name": "Lab5.ipynb",
   "provenance": []
  },
  "kernelspec": {
   "display_name": "Python 3 (ipykernel)",
   "language": "python",
   "name": "python3"
  },
  "language_info": {
   "codemirror_mode": {
    "name": "ipython",
    "version": 3
   },
   "file_extension": ".py",
   "mimetype": "text/x-python",
   "name": "python",
   "nbconvert_exporter": "python",
   "pygments_lexer": "ipython3",
   "version": "3.9.7"
  }
 },
 "nbformat": 4,
 "nbformat_minor": 1
}
